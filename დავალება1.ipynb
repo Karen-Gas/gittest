{
  "nbformat": 4,
  "nbformat_minor": 0,
  "metadata": {
    "colab": {
      "name": "Untitled10.ipynb",
      "provenance": [],
      "collapsed_sections": [],
      "authorship_tag": "ABX9TyNM1PtWA3BkMUhda6KxDZ6e",
      "include_colab_link": true
    },
    "kernelspec": {
      "name": "python3",
      "display_name": "Python 3"
    }
  },
  "cells": [
    {
      "cell_type": "markdown",
      "metadata": {
        "id": "view-in-github",
        "colab_type": "text"
      },
      "source": [
        "<a href=\"https://colab.research.google.com/github/Karen-Gas/gittest/blob/master/%E1%83%93%E1%83%90%E1%83%95%E1%83%90%E1%83%9A%E1%83%94%E1%83%91%E1%83%901.ipynb\" target=\"_parent\"><img src=\"https://colab.research.google.com/assets/colab-badge.svg\" alt=\"Open In Colab\"/></a>"
      ]
    },
    {
      "cell_type": "code",
      "metadata": {
        "id": "edixQTyY00vd",
        "colab_type": "code",
        "colab": {
          "base_uri": "https://localhost:8080/",
          "height": 238
        },
        "outputId": "23ae1dd3-d534-4212-c4f2-effe96ef785b"
      },
      "source": [
        "#ამოცანა 1\n",
        "#შეატრიალეთ მასივი  ანუ პირველი ელემენტი უნდა გახდეს ბოლო, მეორე უნდა გახდეს ბოლოს წინა და ა.შ.\n",
        "import numpy as np\n",
        "from matplotlib import pyplot as plt \n",
        "mas = np.arange(101)\n",
        "print(mas)\n",
        "print(\"--\"*35)\n",
        "mas = mas[::-1]\n",
        "print(mas)\n"
      ],
      "execution_count": 51,
      "outputs": [
        {
          "output_type": "stream",
          "text": [
            "[  0   1   2   3   4   5   6   7   8   9  10  11  12  13  14  15  16  17\n",
            "  18  19  20  21  22  23  24  25  26  27  28  29  30  31  32  33  34  35\n",
            "  36  37  38  39  40  41  42  43  44  45  46  47  48  49  50  51  52  53\n",
            "  54  55  56  57  58  59  60  61  62  63  64  65  66  67  68  69  70  71\n",
            "  72  73  74  75  76  77  78  79  80  81  82  83  84  85  86  87  88  89\n",
            "  90  91  92  93  94  95  96  97  98  99 100]\n",
            "----------------------------------------------------------------------\n",
            "[100  99  98  97  96  95  94  93  92  91  90  89  88  87  86  85  84  83\n",
            "  82  81  80  79  78  77  76  75  74  73  72  71  70  69  68  67  66  65\n",
            "  64  63  62  61  60  59  58  57  56  55  54  53  52  51  50  49  48  47\n",
            "  46  45  44  43  42  41  40  39  38  37  36  35  34  33  32  31  30  29\n",
            "  28  27  26  25  24  23  22  21  20  19  18  17  16  15  14  13  12  11\n",
            "  10   9   8   7   6   5   4   3   2   1   0]\n"
          ],
          "name": "stdout"
        }
      ]
    },
    {
      "cell_type": "code",
      "metadata": {
        "id": "hFxx9gkZ06_w",
        "colab_type": "code",
        "colab": {
          "base_uri": "https://localhost:8080/",
          "height": 34
        },
        "outputId": "cb207829-6693-4529-fa64-3992ba48704d"
      },
      "source": [
        "#საშუალო არითმეტიკული\n",
        "mas = np.arange(100)\n",
        "mas_mean = mas.mean()\n",
        "mas_mean"
      ],
      "execution_count": 52,
      "outputs": [
        {
          "output_type": "execute_result",
          "data": {
            "text/plain": [
              "49.5"
            ]
          },
          "metadata": {
            "tags": []
          },
          "execution_count": 52
        }
      ]
    },
    {
      "cell_type": "code",
      "metadata": {
        "id": "ZZbgikU_3fGx",
        "colab_type": "code",
        "colab": {
          "base_uri": "https://localhost:8080/",
          "height": 34
        },
        "outputId": "a902cde7-f291-4390-c3b1-1adde102f28c"
      },
      "source": [
        "# ვამოწმებ არის თუ არა ორი მასივი ერთნაირი\n",
        "mas_1 = np.random.random(size=(1,3))\n",
        "mas_2 = np.random.random(size=(1,3))\n",
        "answer = np.equal(mas_1,mas_2)\n",
        "answer"
      ],
      "execution_count": 53,
      "outputs": [
        {
          "output_type": "execute_result",
          "data": {
            "text/plain": [
              "array([[False, False, False]])"
            ]
          },
          "metadata": {
            "tags": []
          },
          "execution_count": 53
        }
      ]
    },
    {
      "cell_type": "code",
      "metadata": {
        "id": "o8jXemGL4dzU",
        "colab_type": "code",
        "colab": {
          "base_uri": "https://localhost:8080/",
          "height": 51
        },
        "outputId": "ae661303-6b2e-44eb-81ae-703927c28609"
      },
      "source": [
        "def func(arg_1,arg_2):\n",
        "  answer = np.equal(arg_1, arg_2)\n",
        "  return answer\n",
        "\n",
        "mas_1 = np.random.random(size=(7,7))\n",
        "mas_2 = np.random.random(size=(7,7))\n",
        "%time Z_loop = func(mas_1, mas_2)"
      ],
      "execution_count": 54,
      "outputs": [
        {
          "output_type": "stream",
          "text": [
            "CPU times: user 26 µs, sys: 4 µs, total: 30 µs\n",
            "Wall time: 33.6 µs\n"
          ],
          "name": "stdout"
        }
      ]
    },
    {
      "cell_type": "code",
      "metadata": {
        "id": "gW7Vz9KS89aF",
        "colab_type": "code",
        "colab": {
          "base_uri": "https://localhost:8080/",
          "height": 299
        },
        "outputId": "c22f44d2-80b2-4aea-b277-f60adc1830a0"
      },
      "source": [
        "\n",
        "a = 6\n",
        "b = 66\n",
        "x = np.random.normal(a,b,1000)\n",
        "print(len(x))\n",
        "plt.hist(x, bins = [2, 10, 20, 100])\n",
        "plt.show()\n",
        "\n",
        "\"\"\" ჩვენ მონაცემები დავვაჯგუფეთ 2დან 10, 10 დან 20  და 20 დან 100,\n",
        "2-10 არის 50 - 55 მონაცემი\n",
        "10-20 არის 60-65 მონაცემ\n",
        "დანარჩენი არის 20-100 ინტერვალში\n",
        " \"\"\"\n"
      ],
      "execution_count": 67,
      "outputs": [
        {
          "output_type": "stream",
          "text": [
            "1000\n"
          ],
          "name": "stdout"
        },
        {
          "output_type": "display_data",
          "data": {
            "image/png": "[encoded data removed]",
            "text/plain": [
              "<Figure size 432x288 with 1 Axes>"
            ]
          },
          "metadata": {
            "tags": [],
            "needs_background": "light"
          }
        },
        {
          "output_type": "execute_result",
          "data": {
            "text/plain": [
              "' ჩვენ მონაცემები დავვაჯგუფეთ 2დან 10, 10 დან 20  და 20 დან 100,\\n2-10 არის 50 - 55 მონაცემი\\n10-20 არის 60-65 მონაცემ\\n20-100 არის 300 \\n '"
            ]
          },
          "metadata": {
            "tags": []
          },
          "execution_count": 67
        }
      ]
    },
    {
      "cell_type": "code",
      "metadata": {
        "id": "UqSvvtRl-MDZ",
        "colab_type": "code",
        "colab": {}
      },
      "source": [
        ""
      ],
      "execution_count": 0,
      "outputs": []
    }
  ]
}