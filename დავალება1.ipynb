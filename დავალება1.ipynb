{
  "nbformat": 4,
  "nbformat_minor": 0,
  "metadata": {
    "colab": {
      "name": "Untitled9.ipynb",
      "provenance": [],
      "authorship_tag": "ABX9TyOhs+s1QGxj0U2StSMpC9/8",
      "include_colab_link": true
    },
    "kernelspec": {
      "name": "python3",
      "display_name": "Python 3"
    }
  },
  "cells": [
    {
      "cell_type": "markdown",
      "metadata": {
        "id": "view-in-github",
        "colab_type": "text"
      },
      "source": [
        "<a href=\"https://colab.research.google.com/github/Karen-Gas/gittest/blob/master/%E1%83%93%E1%83%90%E1%83%95%E1%83%90%E1%83%9A%E1%83%94%E1%83%91%E1%83%901.ipynb\" target=\"_parent\"><img src=\"https://colab.research.google.com/assets/colab-badge.svg\" alt=\"Open In Colab\"/></a>"
      ]
    },
    {
      "cell_type": "code",
      "metadata": {
        "id": "9ks3AG2XXl2y",
        "colab_type": "code",
        "outputId": "fa47d07d-6fe8-4834-bcd3-b4ec63c38bcc",
        "colab": {
          "base_uri": "https://localhost:8080/",
          "height": 269
        }
      },
      "source": [
        "import numpy as np\n",
        "import matplotlib.pyplot as plt \n",
        "\n",
        "N = 100\n",
        "ON = 300\n",
        "OFF = 0\n",
        "vals = [ON, OFF]\n",
        "\n",
        "\n",
        "grid = np.random.choice(vals, N*N, p=[0.2, 0.8]).reshape(N, N)\n",
        "#print(grid)\n",
        "def update(data):\n",
        "  global grid\n",
        "  # copy grid since we require 8 neighbors for calculation\n",
        "  # and we go line by line \n",
        "  newGrid = grid.copy()\n",
        "\n",
        "  #print(grid)\n",
        "  for i in range(N):\n",
        "    for j in range(N):\n",
        "      # compute 8-neghbor sum \n",
        "      # using toroidal boundary conditions - x and y wrap around \n",
        "      # so that the simulaton takes place on a toroidal surface.\n",
        "      total = (grid[i, (j-1)%N] + grid[i, (j+1)%N] + \n",
        "               grid[(i-1)%N, j] + grid[(i+1)%N, j] + \n",
        "               grid[(i-1)%N, (j-1)%N] + grid[(i-1)%N, (j+1)%N] + \n",
        "               grid[(i+1)%N, (j-1)%N] + grid[(i+1)%N, (j+1)%N])/300\n",
        "      \n",
        "      # apply Conway's rules\n",
        "      print(grid[i,j])\n",
        "      if grid[i, j]  == ON:\n",
        "\n",
        "        if (total < 2) or (total > 3):\n",
        "          newGrid[i, j] = OFF\n",
        "      else:\n",
        "        if total == 3:\n",
        "          newGrid[i, j] = ON\n",
        "  print(total)        \n",
        "  # update data\n",
        "  mat.set_data(newGrid)\n",
        "  grid = newGrid\n",
        "  return [mat]\n",
        "\n",
        "fig, ax = plt.subplots()\n",
        "\n",
        "\n",
        "mat = ax.matshow(grid)\n"
      ],
      "execution_count": 0,
      "outputs": [
        {
          "output_type": "display_data",
          "data": {
            "image/png": "[encoded data removed]",
            "text/plain": [
              "<Figure size 432x288 with 1 Axes>"
            ]
          },
          "metadata": {
            "tags": [],
            "needs_background": "light"
          }
        }
      ]
    },
    {
      "cell_type": "code",
      "metadata": {
        "id": "DZZZnPlqXooB",
        "colab_type": "code",
        "colab": {}
      },
      "source": [
        ""
      ],
      "execution_count": 0,
      "outputs": []
    }
  ]
}